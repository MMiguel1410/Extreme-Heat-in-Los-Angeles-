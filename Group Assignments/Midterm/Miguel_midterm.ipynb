{
 "cells": [
  {
   "cell_type": "code",
   "execution_count": 1,
   "id": "ddbc557c-3a7d-4930-9f89-bad1d46d56ab",
   "metadata": {},
   "outputs": [],
   "source": [
    "# to download osm data\n",
    "import osmnx as ox\n",
    "\n",
    "# to manipulate data\n",
    "import pandas as pd\n",
    "\n",
    "# for interactive plots\n",
    "import plotly.express as px\n",
    "\n",
    "# to manipulate and visualize spatial data\n",
    "import geopandas as gpd\n",
    "\n",
    "# to provide basemaps \n",
    "import contextily as ctx\n",
    "\n",
    "# to give more power to your figures (plots)\n",
    "import matplotlib.pyplot as plt\n",
    "\n",
    "#folium map \n",
    "import folium "
   ]
  },
  {
   "cell_type": "code",
   "execution_count": 2,
   "id": "b8f2314c-d2ed-4012-a1b7-2f1c7f8b7b8e",
   "metadata": {},
   "outputs": [],
   "source": [
    "pd.set_option('display.max_columns', None)\n",
    "pd.set_option('display.max_rows', None)"
   ]
  },
  {
   "cell_type": "code",
   "execution_count": 6,
   "id": "d02ab2e7-a39c-4273-a898-8445840d67e1",
   "metadata": {
    "tags": []
   },
   "outputs": [
    {
     "name": "stdout",
     "output_type": "stream",
     "text": [
      "<class 'pandas.core.frame.DataFrame'>\n",
      "RangeIndex: 2261 entries, 0 to 2260\n",
      "Data columns (total 24 columns):\n",
      " #   Column                            Non-Null Count  Dtype  \n",
      "---  ------                            --------------  -----  \n",
      " 0   geoid                             2261 non-null   object \n",
      " 1   Tract                             2261 non-null   float64\n",
      " 2   population                        2261 non-null   int64  \n",
      " 3   value                             2261 non-null   float64\n",
      " 4   percentile                        2261 non-null   float64\n",
      " 5   FIPS                              2261 non-null   object \n",
      " 6   GEOID                             2261 non-null   object \n",
      " 7   stateusabbreviationusps           2261 non-null   object \n",
      " 8   summarylevel                      2261 non-null   int64  \n",
      " 9   geographiccomponent               2261 non-null   int64  \n",
      " 10  statefips                         2261 non-null   int64  \n",
      " 11  county                            2261 non-null   int64  \n",
      " 12  censustract                       2261 non-null   int64  \n",
      " 13  arealand                          2261 non-null   int64  \n",
      " 14  areawater                         2261 non-null   int64  \n",
      " 15  totalpopulation                   2261 non-null   int64  \n",
      " 16  totalhousingunits                 2261 non-null   int64  \n",
      " 17  occupiedhousingunits              2261 non-null   int64  \n",
      " 18  occupiedhousingunitsowneroccupie  2261 non-null   int64  \n",
      " 19  occupiedhousingunitsrenteroccupi  2261 non-null   int64  \n",
      " 20  vacanthousingunits                2261 non-null   int64  \n",
      " 21  vacanthousingunitsforrent         2261 non-null   int64  \n",
      " 22  vacanthousingunitsforsaleonly     2261 non-null   int64  \n",
      " 23  _merge                            2261 non-null   object \n",
      "dtypes: float64(3), int64(16), object(5)\n",
      "memory usage: 424.1+ KB\n"
     ]
    }
   ],
   "source": [
    "heat = pd.read_csv(\n",
    "    'Midterm Data/LA Heat.csv',\n",
    "    dtype=\n",
    "    {\n",
    "        'geoid':str,\n",
    "        'FIPS':str,\n",
    "        'GEOID':str,\n",
    "    })\n",
    "heat.info()"
   ]
  },
  {
   "cell_type": "code",
   "execution_count": 7,
   "id": "a6fd8416-890e-417d-bdab-15081682c960",
   "metadata": {
    "tags": []
   },
   "outputs": [
    {
     "data": {
      "text/plain": [
       "['geoid',\n",
       " 'Tract',\n",
       " 'population',\n",
       " 'value',\n",
       " 'percentile',\n",
       " 'FIPS',\n",
       " 'GEOID',\n",
       " 'stateusabbreviationusps',\n",
       " 'summarylevel',\n",
       " 'geographiccomponent',\n",
       " 'statefips',\n",
       " 'county',\n",
       " 'censustract',\n",
       " 'arealand',\n",
       " 'areawater',\n",
       " 'totalpopulation',\n",
       " 'totalhousingunits',\n",
       " 'occupiedhousingunits',\n",
       " 'occupiedhousingunitsowneroccupie',\n",
       " 'occupiedhousingunitsrenteroccupi',\n",
       " 'vacanthousingunits',\n",
       " 'vacanthousingunitsforrent',\n",
       " 'vacanthousingunitsforsaleonly',\n",
       " '_merge']"
      ]
     },
     "execution_count": 7,
     "metadata": {},
     "output_type": "execute_result"
    }
   ],
   "source": [
    "column=list(heat)\n",
    "column"
   ]
  },
  {
   "cell_type": "code",
   "execution_count": 9,
   "id": "e864b8f1-c77a-47a5-a942-28447bbef7f5",
   "metadata": {
    "tags": []
   },
   "outputs": [],
   "source": [
    "heat.columns=['geoid',\n",
    " 'Census Tract',\n",
    " 'Tract Population',\n",
    " 'Days above 90F',\n",
    " 'Percentile',\n",
    " 'FIPS',\n",
    " 'GEOID',\n",
    " 'stateusabbreviationusps',\n",
    " 'summarylevel',\n",
    " 'geographiccomponent',\n",
    " 'statefips',\n",
    " 'county',\n",
    " 'censustract',\n",
    " 'arealand',\n",
    " 'areawater',\n",
    " 'Total Population',\n",
    " 'Total Housing Units',\n",
    " 'Total Occupied Housing Units',\n",
    " 'Owner Occupied',\n",
    " 'Renter Occupied',\n",
    " 'Total Vacant Housing',\n",
    " 'Vacant for Rent',\n",
    " 'Vacant for Sale',\n",
    " '_merge']"
   ]
  },
  {
   "cell_type": "code",
   "execution_count": 10,
   "id": "6c09747e-669e-40a8-95c9-a4e5e59e8822",
   "metadata": {
    "tags": []
   },
   "outputs": [],
   "source": [
    "# read in a geojson file downloaded from the LA Times\n",
    "heat_tracts=gpd.read_file('Midterm Data/06.geojson')"
   ]
  },
  {
   "cell_type": "code",
   "execution_count": 11,
   "id": "6f6c4446-9179-4499-9fce-fa0ce227680c",
   "metadata": {
    "tags": []
   },
   "outputs": [
    {
     "name": "stdout",
     "output_type": "stream",
     "text": [
      "<class 'geopandas.geodataframe.GeoDataFrame'>\n",
      "RangeIndex: 8057 entries, 0 to 8056\n",
      "Data columns (total 13 columns):\n",
      " #   Column    Non-Null Count  Dtype   \n",
      "---  ------    --------------  -----   \n",
      " 0   STATEFP   8057 non-null   object  \n",
      " 1   COUNTYFP  8057 non-null   object  \n",
      " 2   TRACTCE   8057 non-null   object  \n",
      " 3   GEOID     8057 non-null   object  \n",
      " 4   NAME      8057 non-null   object  \n",
      " 5   NAMELSAD  8057 non-null   object  \n",
      " 6   MTFCC     8057 non-null   object  \n",
      " 7   FUNCSTAT  8057 non-null   object  \n",
      " 8   ALAND     8057 non-null   float64 \n",
      " 9   AWATER    8057 non-null   float64 \n",
      " 10  INTPTLAT  8057 non-null   object  \n",
      " 11  INTPTLON  8057 non-null   object  \n",
      " 12  geometry  8057 non-null   geometry\n",
      "dtypes: float64(2), geometry(1), object(10)\n",
      "memory usage: 818.4+ KB\n"
     ]
    }
   ],
   "source": [
    "heat_tracts.info()"
   ]
  },
  {
   "cell_type": "code",
   "execution_count": 12,
   "id": "3b4630e1-5e64-43d5-b638-ca436c2be42c",
   "metadata": {},
   "outputs": [],
   "source": [
    "tracts=heat_tracts[['GEOID','geometry']]"
   ]
  },
  {
   "cell_type": "code",
   "execution_count": 13,
   "id": "ef711f94-9674-43c2-a56a-edc7faab3bd7",
   "metadata": {},
   "outputs": [],
   "source": [
    "m_heat=tracts.merge(heat,on=\"GEOID\")"
   ]
  },
  {
   "cell_type": "code",
   "execution_count": 15,
   "id": "5d225e92-193c-4082-a902-c69ce9442768",
   "metadata": {},
   "outputs": [
    {
     "name": "stdout",
     "output_type": "stream",
     "text": [
      "<class 'geopandas.geodataframe.GeoDataFrame'>\n",
      "Int64Index: 2261 entries, 0 to 2260\n",
      "Data columns (total 25 columns):\n",
      " #   Column                        Non-Null Count  Dtype   \n",
      "---  ------                        --------------  -----   \n",
      " 0   GEOID                         2261 non-null   object  \n",
      " 1   geometry                      2261 non-null   geometry\n",
      " 2   geoid                         2261 non-null   object  \n",
      " 3   Census Tract                  2261 non-null   float64 \n",
      " 4   Tract Population              2261 non-null   int64   \n",
      " 5   Days above 90F                2261 non-null   float64 \n",
      " 6   Percentile                    2261 non-null   float64 \n",
      " 7   FIPS                          2261 non-null   object  \n",
      " 8   stateusabbreviationusps       2261 non-null   object  \n",
      " 9   summarylevel                  2261 non-null   int64   \n",
      " 10  geographiccomponent           2261 non-null   int64   \n",
      " 11  statefips                     2261 non-null   int64   \n",
      " 12  county                        2261 non-null   int64   \n",
      " 13  censustract                   2261 non-null   int64   \n",
      " 14  arealand                      2261 non-null   int64   \n",
      " 15  areawater                     2261 non-null   int64   \n",
      " 16  Total Population              2261 non-null   int64   \n",
      " 17  Total Housing Units           2261 non-null   int64   \n",
      " 18  Total Occupied Housing Units  2261 non-null   int64   \n",
      " 19  Owner Occupied                2261 non-null   int64   \n",
      " 20  Renter Occupied               2261 non-null   int64   \n",
      " 21  Total Vacant Housing          2261 non-null   int64   \n",
      " 22  Vacant for Rent               2261 non-null   int64   \n",
      " 23  Vacant for Sale               2261 non-null   int64   \n",
      " 24  _merge                        2261 non-null   object  \n",
      "dtypes: float64(3), geometry(1), int64(16), object(5)\n",
      "memory usage: 459.3+ KB\n"
     ]
    }
   ],
   "source": [
    "m_heat.info()"
   ]
  },
  {
   "cell_type": "code",
   "execution_count": null,
   "id": "4be7b81e-5c20-435c-a54a-baa32d338245",
   "metadata": {},
   "outputs": [],
   "source": []
  }
 ],
 "metadata": {
  "kernelspec": {
   "display_name": "Python 3 (ipykernel)",
   "language": "python",
   "name": "python3"
  },
  "language_info": {
   "codemirror_mode": {
    "name": "ipython",
    "version": 3
   },
   "file_extension": ".py",
   "mimetype": "text/x-python",
   "name": "python",
   "nbconvert_exporter": "python",
   "pygments_lexer": "ipython3",
   "version": "3.10.8"
  }
 },
 "nbformat": 4,
 "nbformat_minor": 5
}
